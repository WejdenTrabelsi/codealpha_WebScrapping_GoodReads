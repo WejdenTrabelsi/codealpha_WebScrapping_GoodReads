{
 "cells": [
  {
   "cell_type": "markdown",
   "id": "b86c3c97",
   "metadata": {},
   "source": [
    "<h1 style =\"font-family: verdana; text-size:14pt; text-align:center;color:blue;\">Task 1 </h1>\n",
    "<h2 style=\"text-align:center\">Web Scrapping : GoodReads </h2>"
   ]
  },
  {
   "cell_type": "code",
   "execution_count": 4,
   "id": "83c8ec30",
   "metadata": {},
   "outputs": [],
   "source": [
    "import requests\n",
    "from bs4 import BeautifulSoup"
   ]
  },
  {
   "cell_type": "code",
   "execution_count": 5,
   "id": "e9e3823f",
   "metadata": {},
   "outputs": [],
   "source": [
    "import pandas as pd\n",
    "import time\n"
   ]
  },
  {
   "cell_type": "code",
   "execution_count": 6,
   "id": "553804e3",
   "metadata": {},
   "outputs": [],
   "source": [
    "headers = {\n",
    "    'User-Agent': 'Mozilla/5.0 (Windows NT 10.0; Win64; x64) AppleWebKit/537.36 (KHTML, like Gecko) Chrome/91.0.4472.124 Safari/537.36'\n",
    "}"
   ]
  },
  {
   "cell_type": "code",
   "execution_count": 7,
   "id": "5befafee",
   "metadata": {},
   "outputs": [],
   "source": [
    "def scrape_goodreads_list(url):\n",
    "    response = requests.get(url, headers=headers)\n",
    "    soup = BeautifulSoup(response.text, 'html.parser')\n",
    "    \n",
    "    books = []\n",
    "    for book in soup.select('tr[itemtype=\"http://schema.org/Book\"]'):\n",
    "        title = book.select_one('a.bookTitle span').get_text(strip=True)\n",
    "        author = book.select_one('a.authorName span').get_text(strip=True)\n",
    "        books.append({'Title': title, 'Author': author})\n",
    "        time.sleep(2)  # Respectful delay\n",
    "    \n",
    "    return pd.DataFrame(books)"
   ]
  },
  {
   "cell_type": "code",
   "execution_count": 8,
   "id": "6b715287",
   "metadata": {},
   "outputs": [
    {
     "name": "stdout",
     "output_type": "stream",
     "text": [
      "                                               Title           Author\n",
      "0            The Hunger Games (The Hunger Games, #1)  Suzanne Collins\n",
      "1  Harry Potter and the Order of the Phoenix (Har...     J.K. Rowling\n",
      "2                                Pride and Prejudice      Jane Austen\n",
      "3                              To Kill a Mockingbird       Harper Lee\n",
      "4                                     The Book Thief     Markus Zusak\n"
     ]
    }
   ],
   "source": [
    "# Example: Scrape the first page of \"Best Books Ever\"\n",
    "df = scrape_goodreads_list(\"https://www.goodreads.com/list/show/1\")\n",
    "print(df.head())\n",
    "df.to_csv('goodreads_books.csv', index=False)"
   ]
  },
  {
   "cell_type": "code",
   "execution_count": 9,
   "id": "1fe8d3d1",
   "metadata": {},
   "outputs": [
    {
     "name": "stdout",
     "output_type": "stream",
     "text": [
      "                                                Title              Author\n",
      "95                               The Poisonwood Bible  Barbara Kingsolver\n",
      "96                           And Then There Were None     Agatha Christie\n",
      "97                     The Complete Stories and Poems     Edgar Allan Poe\n",
      "98  Interview with the Vampire (The Vampire Chroni...           Anne Rice\n",
      "99                                     Atlas Shrugged            Ayn Rand\n"
     ]
    }
   ],
   "source": [
    "print(df.tail())"
   ]
  }
 ],
 "metadata": {
  "kernelspec": {
   "display_name": "Python 3",
   "language": "python",
   "name": "python3"
  },
  "language_info": {
   "codemirror_mode": {
    "name": "ipython",
    "version": 3
   },
   "file_extension": ".py",
   "mimetype": "text/x-python",
   "name": "python",
   "nbconvert_exporter": "python",
   "pygments_lexer": "ipython3",
   "version": "3.12.1"
  }
 },
 "nbformat": 4,
 "nbformat_minor": 5
}
